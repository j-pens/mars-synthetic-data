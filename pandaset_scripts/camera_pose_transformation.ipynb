{
 "cells": [
  {
   "cell_type": "code",
   "execution_count": 2,
   "metadata": {},
   "outputs": [],
   "source": [
    "import numpy as np\n",
    "import pandaset as ps\n",
    "import transforms3d"
   ]
  },
  {
   "cell_type": "code",
   "execution_count": 7,
   "metadata": {},
   "outputs": [
    {
     "data": {
      "text/plain": [
       "{'position': {'x': 0.05324751932344672,\n",
       "  'y': 0.5418887113856523,\n",
       "  'z': 1.816017925733849},\n",
       " 'heading': {'w': 0.7100100192413354,\n",
       "  'x': -0.7040353885222189,\n",
       "  'y': 0.00945366271558075,\n",
       "  'z': -0.011426834493699793}}"
      ]
     },
     "execution_count": 7,
     "metadata": {},
     "output_type": "execute_result"
    }
   ],
   "source": [
    "dataset = ps.DataSet('/zfs/penshorn/master_thesis/datasets/raw/PandaSet')\n",
    "\n",
    "sequences = dataset.sequences()\n",
    "\n",
    "seq = dataset['011']\n",
    "seq.load_camera()\n",
    "\n",
    "seq.camera['front_camera'].poses[0]\n"
   ]
  },
  {
   "cell_type": "code",
   "execution_count": 4,
   "metadata": {},
   "outputs": [],
   "source": [
    "def coordinates_conversion(pose:np.ndarray):\n",
    "        c2w = pose.copy()\n",
    "        flip_mat = np.array([\n",
    "            [1, 0, 0, 0],\n",
    "            [0, -1, 0, 0],\n",
    "            [0, 0, -1, 0],\n",
    "            [0, 0, 0, 1]\n",
    "        ])\n",
    "        flip_mat2 = np.array([\n",
    "            [0, -1, 0, 0],\n",
    "            [1, 0, 0, 0],\n",
    "            [0, 0, 1, 0],\n",
    "            [0, 0, 0, 1]\n",
    "        ])\n",
    "        # just for debug purpose, uncomment this part if used to train with nerfstudio\n",
    "        c2w[0:3,2] *= -1 # flip the y and z axis\n",
    "        c2w[0:3,1] *= -1\n",
    "        c2w = c2w[[1,0,2,3],:]\n",
    "        c2w[2,:] *= -1 # flip whole world upside down\n",
    "        return(flip_mat2 @ flip_mat @ c2w)\n",
    "\n",
    "\n",
    "def convert_to_nerfstudio_camera_orientation(self, pose:np.ndarray):\n",
    "    # swap x and y and invert old y axis\n",
    "    flip_mat2 = np.array([\n",
    "        [-1, 0, 0, 0],\n",
    "        [0, 0, 1, 0],\n",
    "        [0, 1, 0, 0],\n",
    "        [0, 0, 0, 1]\n",
    "    ])\n",
    "    return flip_mat2 @ pose\n",
    "\n",
    "def pose_to_Tr(pose):\n",
    "        T = np.array([pose['position']['x'],pose['position']['y'],pose['position']['z']])\n",
    "        R = transforms3d.quaternions.quat2mat(np.array([\n",
    "            pose['heading']['w'],\n",
    "            pose['heading']['x'],\n",
    "            pose['heading']['y'],\n",
    "            pose['heading']['z'],\n",
    "\n",
    "        ]))\n",
    "        Tr = np.eye(4)\n",
    "        Tr[:3,:3] = R\n",
    "        Tr[:3,3] = T\n",
    "        return Tr\n",
    "\n",
    "def rotation_matrix_x(angle):\n",
    "    return np.array([\n",
    "        [1, 0, 0],\n",
    "        [0, np.cos(angle), -np.sin(angle)],\n",
    "        [0, np.sin(angle), np.cos(angle)]\n",
    "    ])\n",
    "\n",
    "def rot_mat_to_transform(rot_mat):\n",
    "    transform = np.eye(4)\n",
    "    transform[:3,:3] = rot_mat\n",
    "    return transform"
   ]
  },
  {
   "cell_type": "code",
   "execution_count": 6,
   "metadata": {},
   "outputs": [
    {
     "name": "stdout",
     "output_type": "stream",
     "text": [
      "[[1. 0. 0. 1.]\n",
      " [0. 1. 0. 2.]\n",
      " [0. 0. 1. 3.]\n",
      " [0. 0. 0. 1.]]\n",
      "[[ 1.0000000e+00  0.0000000e+00  0.0000000e+00]\n",
      " [ 0.0000000e+00 -1.0000000e+00 -1.2246468e-16]\n",
      " [ 0.0000000e+00  1.2246468e-16 -1.0000000e+00]]\n",
      "1.2246467991473532e-16\n",
      "6.123233995736766e-17\n",
      "[[ 1.  0.  0.  1.]\n",
      " [ 0. -1.  0.  2.]\n",
      " [ 0.  0. -1.  3.]\n",
      " [ 0.  0.  0.  1.]]\n",
      "[[ 1.  0.  0.  1.]\n",
      " [ 0. -1.  0. -2.]\n",
      " [ 0.  0. -1. -3.]\n",
      " [ 0.  0.  0.  1.]]\n"
     ]
    }
   ],
   "source": [
    "cam_orientation = np.eye(4)\n",
    "\n",
    "cam_orientation[:3,3] = np.array([1, 2, 3])\n",
    "\n",
    "# rotation matrix around the x axis\n",
    "cam_rotation = rotation_matrix_x(np.pi)\n",
    "\n",
    "# Explicitly defined to prevent small floating point values != 0\n",
    "rot_x_pi = np.array([\n",
    "    [1, 0, 0],\n",
    "    [0, -1, 0],\n",
    "    [0, 0, -1]\n",
    "])\n",
    "\n",
    "print(cam_orientation)\n",
    "print(cam_rotation)\n",
    "# print(cam_rotation @ cam_orientation)\n",
    "print(np.sin(np.pi))\n",
    "print(np.cos(np.pi/2))\n",
    "\n",
    "print(coordinates_conversion(cam_orientation))\n",
    "\n",
    "print(rot_mat_to_transform(rot_x_pi) @ cam_orientation)\n",
    "\n"
   ]
  }
 ],
 "metadata": {
  "kernelspec": {
   "display_name": "test_env",
   "language": "python",
   "name": "python3"
  },
  "language_info": {
   "codemirror_mode": {
    "name": "ipython",
    "version": 3
   },
   "file_extension": ".py",
   "mimetype": "text/x-python",
   "name": "python",
   "nbconvert_exporter": "python",
   "pygments_lexer": "ipython3",
   "version": "3.11.7"
  }
 },
 "nbformat": 4,
 "nbformat_minor": 2
}
